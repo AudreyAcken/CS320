{
 "cells": [
  {
   "cell_type": "markdown",
   "metadata": {},
   "source": [
    "# Linear Regression\n",
    "\n",
    "By Jen Selby and Carl Shan\n",
    "\n",
    "This Jupyter Notebook will introduce to you to how to make a Linear Regression model using the Sci-kit Learn (aka `sklearn`) Python library.\n",
    "\n",
    "You can see basic example here:\n",
    "> http://scikit-learn.org/stable/modules/linear_model.html#ordinary-least-squares\n",
    "\n",
    "and full documentation of the sklearn linear_model module here:\n",
    "> http://scikit-learn.org/stable/modules/generated/sklearn.linear_model.LinearRegression.html"
   ]
  },
  {
   "cell_type": "markdown",
   "metadata": {},
   "source": [
    "## Setup\n",
    "\n",
    "First, make sure you have installed all of the necessary Python libraries, following [the instructions here](https://jennselby.github.io/MachineLearningCourseNotes/#setting-up-python3).\n",
    "\n",
    "Next, we want to make sure we can display our graphs in this notebook and import all of the libraries we'll need into the notebook."
   ]
  },
  {
   "cell_type": "code",
   "execution_count": 1,
   "metadata": {},
   "outputs": [],
   "source": [
    "# We're going to be doing some plotting, and we want to be able to see these plots.\n",
    "# To display graphs in this notebook, run this cell.\n",
    "%matplotlib inline"
   ]
  },
  {
   "cell_type": "code",
   "execution_count": 2,
   "metadata": {},
   "outputs": [],
   "source": [
    "# We're now going to import some important libraries\n",
    "\n",
    "import numpy.random # for generating a noisy data set\n",
    "from sklearn import linear_model # for training a linear model\n",
    "\n",
    "import matplotlib.pyplot # for plotting in general\n",
    "from mpl_toolkits.mplot3d import Axes3D # for 3D plotting\n",
    "\n",
    "import pandas as pd"
   ]
  },
  {
   "cell_type": "markdown",
   "metadata": {},
   "source": [
    "## Fake Data Generation\n",
    "\n",
    "We're going to generate some fake data to test out our ideas about linear regression. These constant variables decide some of the characteristics of our data: the `x` range (which will also be used to set the size of the graph later) and how many inputs we should generate."
   ]
  },
  {
   "cell_type": "code",
   "execution_count": 3,
   "metadata": {},
   "outputs": [],
   "source": [
    "# Setting the limits and number of our first, X, variable\n",
    "\n",
    "MIN_X = -10\n",
    "MAX_X = 10\n",
    "NUM_INPUTS = 50"
   ]
  },
  {
   "cell_type": "markdown",
   "metadata": {},
   "source": [
    "### Fake Dataset 1\n",
    "\n",
    "Our first dataset has just one input feature. We are going to pick out 50 random real numbers between our min and max. Then, we will generate one output for each of these inputs following the function $y = 0.3x + 1$.\n",
    "\n",
    "To make this look like real data, we will add a bit of of noise to it. \n",
    "\n",
    "**Note:** We can generate some noise by picking numbers in a [normal distribution (also called bell curve)](http://www.statisticshowto.com/probability-and-statistics/normal-distributions/) around zero."
   ]
  },
  {
   "cell_type": "code",
   "execution_count": 54,
   "metadata": {},
   "outputs": [
    {
     "name": "stdout",
     "output_type": "stream",
     "text": [
      "[[ 1.94621167]\n",
      " [-4.77002834]\n",
      " [ 7.71144408]\n",
      " [ 7.79670953]\n",
      " [ 4.71609863]\n",
      " [-6.96826195]\n",
      " [-2.60228156]\n",
      " [-1.92330436]\n",
      " [-5.42721401]\n",
      " [ 1.75886912]\n",
      " [ 0.29859942]\n",
      " [-1.67882739]\n",
      " [ 5.29669904]\n",
      " [-9.85704892]\n",
      " [ 6.47368494]\n",
      " [ 6.09801784]\n",
      " [-3.83590928]\n",
      " [ 4.85858932]\n",
      " [-5.38289901]\n",
      " [ 9.22881901]\n",
      " [ 7.28015582]\n",
      " [ 2.60049843]\n",
      " [-0.56200222]\n",
      " [ 0.36842495]\n",
      " [-6.16858429]\n",
      " [ 9.29249799]\n",
      " [ 3.13517789]\n",
      " [-9.7463236 ]\n",
      " [-9.3049845 ]\n",
      " [ 1.65535654]\n",
      " [ 8.16446433]\n",
      " [-0.7559785 ]\n",
      " [ 9.28751785]\n",
      " [ 9.67280146]\n",
      " [-1.45347634]\n",
      " [-9.86616534]\n",
      " [-3.45251945]\n",
      " [ 6.36843862]\n",
      " [ 3.9294023 ]\n",
      " [ 6.92130387]\n",
      " [-9.07896712]\n",
      " [-3.2496432 ]\n",
      " [ 2.72434964]\n",
      " [ 6.70358864]\n",
      " [-5.8380008 ]\n",
      " [-9.54802692]\n",
      " [ 3.31490564]\n",
      " [ 4.48396542]\n",
      " [-5.63841962]\n",
      " [-2.89745034]]\n"
     ]
    }
   ],
   "source": [
    "# randomly pick numbers for x\n",
    "x1 = numpy.random.uniform(low=MIN_X, high=MAX_X, size=(NUM_INPUTS, 1))\n",
    "\n",
    "print(x1)"
   ]
  },
  {
   "cell_type": "markdown",
   "metadata": {},
   "source": [
    "Let's store this data into a `pandas` `DataFrame` object and name the column `'x'`."
   ]
  },
  {
   "cell_type": "code",
   "execution_count": 93,
   "metadata": {},
   "outputs": [
    {
     "data": {
      "text/html": [
       "<div>\n",
       "<style scoped>\n",
       "    .dataframe tbody tr th:only-of-type {\n",
       "        vertical-align: middle;\n",
       "    }\n",
       "\n",
       "    .dataframe tbody tr th {\n",
       "        vertical-align: top;\n",
       "    }\n",
       "\n",
       "    .dataframe thead th {\n",
       "        text-align: right;\n",
       "    }\n",
       "</style>\n",
       "<table border=\"1\" class=\"dataframe\">\n",
       "  <thead>\n",
       "    <tr style=\"text-align: right;\">\n",
       "      <th></th>\n",
       "      <th>x</th>\n",
       "    </tr>\n",
       "  </thead>\n",
       "  <tbody>\n",
       "    <tr>\n",
       "      <th>0</th>\n",
       "      <td>1.946212</td>\n",
       "    </tr>\n",
       "    <tr>\n",
       "      <th>1</th>\n",
       "      <td>-4.770028</td>\n",
       "    </tr>\n",
       "    <tr>\n",
       "      <th>2</th>\n",
       "      <td>7.711444</td>\n",
       "    </tr>\n",
       "    <tr>\n",
       "      <th>3</th>\n",
       "      <td>7.796710</td>\n",
       "    </tr>\n",
       "    <tr>\n",
       "      <th>4</th>\n",
       "      <td>4.716099</td>\n",
       "    </tr>\n",
       "  </tbody>\n",
       "</table>\n",
       "</div>"
      ],
      "text/plain": [
       "          x\n",
       "0  1.946212\n",
       "1 -4.770028\n",
       "2  7.711444\n",
       "3  7.796710\n",
       "4  4.716099"
      ]
     },
     "execution_count": 93,
     "metadata": {},
     "output_type": "execute_result"
    }
   ],
   "source": [
    "data = pd.DataFrame(data=x1, columns=['x'])\n",
    "data.head()"
   ]
  },
  {
   "cell_type": "markdown",
   "metadata": {},
   "source": [
    "Cool. Now we have some fake `x` data.\n",
    "\n",
    "Let's make the fake `y` data now.\n",
    "\n",
    "Let's try to make data that follows the equation: $y = 0.3x + 1$."
   ]
  },
  {
   "cell_type": "code",
   "execution_count": 94,
   "metadata": {},
   "outputs": [],
   "source": [
    "data['y'] = 0.3 * data['x'] + 1"
   ]
  },
  {
   "cell_type": "code",
   "execution_count": 95,
   "metadata": {},
   "outputs": [
    {
     "data": {
      "text/plain": [
       "<matplotlib.axes._subplots.AxesSubplot at 0x1137897f0>"
      ]
     },
     "execution_count": 95,
     "metadata": {},
     "output_type": "execute_result"
    },
    {
     "data": {
      "image/png": "[encoded data removed]",
      "text/plain": [
       "<Figure size 432x288 with 1 Axes>"
      ]
     },
     "metadata": {
      "needs_background": "light"
     },
     "output_type": "display_data"
    }
   ],
   "source": [
    "data.plot.scatter(x='x', y='y')"
   ]
  },
  {
   "cell_type": "markdown",
   "metadata": {},
   "source": [
    "Okay. That looks *too* perfect.\n",
    "\n",
    "Most data in the real world look less linear than that.\n",
    "\n",
    "So let's add a little bit of noise.\n",
    "\n",
    "Otherwise our linear model will be too easy.\n",
    "\n",
    "**NOTE**: Noise are randomly pertubations to your data that happens naturally in the real world. We will simulate some noise."
   ]
  },
  {
   "cell_type": "code",
   "execution_count": 96,
   "metadata": {},
   "outputs": [],
   "source": [
    "# First, let's create some noise to make our data a little bit more spread out.\n",
    "\n",
    "# generate some normally distributed noise\n",
    "noise = numpy.random.normal(size=NUM_INPUTS)"
   ]
  },
  {
   "cell_type": "code",
   "execution_count": 97,
   "metadata": {},
   "outputs": [],
   "source": [
    "# Now let's create the 'y' variable\n",
    "# It turns out you can make a new column in pandas just by doing the below.\n",
    "# It's so simple!\n",
    "data['y'] = data['y'] + noise"
   ]
  },
  {
   "cell_type": "code",
   "execution_count": 98,
   "metadata": {},
   "outputs": [
    {
     "data": {
      "text/plain": [
       "<matplotlib.axes._subplots.AxesSubplot at 0x11425a240>"
      ]
     },
     "execution_count": 98,
     "metadata": {},
     "output_type": "execute_result"
    },
    {
     "data": {
      "image/png": "[encoded data removed]",
      "text/plain": [
       "<Figure size 432x288 with 1 Axes>"
      ]
     },
     "metadata": {
      "needs_background": "light"
     },
     "output_type": "display_data"
    }
   ],
   "source": [
    "data.plot.scatter(x='x', y='y')"
   ]
  },
  {
   "cell_type": "markdown",
   "metadata": {},
   "source": [
    "Great!\n",
    "\n",
    "This looks more like real data now."
   ]
  },
  {
   "cell_type": "markdown",
   "metadata": {},
   "source": [
    "## Training\n",
    "\n",
    "Now that we have our data, we can train our model to find the best fit line. We will use the linear model module from the scikit-learn library to do this.\n",
    "\n",
    "Note: you may get a warning about LAPACK. According to [this discussion on the scikit-learn github page](https://github.com/scipy/scipy/issues/5998), this is safe to ignore."
   ]
  },
  {
   "cell_type": "code",
   "execution_count": 99,
   "metadata": {},
   "outputs": [],
   "source": [
    "# This creates an \"empty\" linear model\n",
    "\n",
    "model = linear_model.LinearRegression()\n"
   ]
  },
  {
   "cell_type": "markdown",
   "metadata": {},
   "source": [
    "First, we need to reshape our data.\n",
    "\n",
    "Currently, our data looks like the following:\n",
    "\n",
    "```python\n",
    "# data['x'] looks like\n",
    "[-3.44342026,  9.60082542,  4.99683803,  7.11339915,  9.69287893, ...]\n",
    "\n",
    "```\n",
    "\n",
    "In other words, it's just a list.\n",
    "\n",
    "However, this isn't sufficient.\n",
    "\n",
    "That's because later on, we will use a command called `.fit()` and this command expects our data to look like a list of lists.\n",
    "\n",
    "For example:\n",
    "\n",
    "```python\n",
    "[[-3.44342026],\n",
    "[ 9.60082542],\n",
    "[ 4.99683803],\n",
    "[ 7.11339915],\n",
    "[ 9.69287893],\n",
    "[-5.1383316 ],\n",
    "[ 8.96638209],\n",
    "...\n",
    "[-9.12492363]]\n",
    "```\n",
    "\n",
    "We will use a the command `.reshape()`."
   ]
  },
  {
   "cell_type": "code",
   "execution_count": 112,
   "metadata": {},
   "outputs": [
    {
     "name": "stdout",
     "output_type": "stream",
     "text": [
      "LinearRegression(copy_X=True, fit_intercept=True, n_jobs=1, normalize=False)\n"
     ]
    }
   ],
   "source": [
    "# Run this code\n",
    "x = data['x'].values.reshape(-1, 1)\n",
    "y = data['y'].values.reshape(-1, 1)"
   ]
  },
  {
   "cell_type": "markdown",
   "metadata": {},
   "source": [
    "There we go. Now we can \"fit\" the data.\n",
    "\n",
    "\"Fitting\" the data means to give the \"empty model\" real data and ask it to find the \"best parameters\" that \"best fits\" the data.\n",
    "\n",
    "Using the amazing `sklearn` library, it's as easy as running the `.fit()` command.\n",
    "\n"
   ]
  },
  {
   "cell_type": "code",
   "execution_count": 115,
   "metadata": {
    "scrolled": true
   },
   "outputs": [
    {
     "data": {
      "text/plain": [
       "LinearRegression(copy_X=True, fit_intercept=True, n_jobs=1, normalize=False)"
      ]
     },
     "execution_count": 115,
     "metadata": {},
     "output_type": "execute_result"
    }
   ],
   "source": [
    "# Run this code\n",
    "model.fit(X=x, y=y)\n"
   ]
  },
  {
   "cell_type": "markdown",
   "metadata": {},
   "source": [
    "## Results and Visualization\n",
    "\n",
    "Now, let's see what our model learned. We can look at the results numerically:"
   ]
  },
  {
   "cell_type": "code",
   "execution_count": 102,
   "metadata": {},
   "outputs": [],
   "source": [
    "def print_model_fit(model):\n",
    "    # Print out the parameters for the best fit line\n",
    "    print('Intercept: {i}  Coefficients: {c}'.format(i=model.intercept_, c=model.coef_))"
   ]
  },
  {
   "cell_type": "code",
   "execution_count": 103,
   "metadata": {},
   "outputs": [
    {
     "name": "stdout",
     "output_type": "stream",
     "text": [
      "Intercept: [1.0589604]  Coefficients: [[0.26223263]]\n"
     ]
    }
   ],
   "source": [
    "print_model_fit(model)"
   ]
  },
  {
   "cell_type": "code",
   "execution_count": 104,
   "metadata": {},
   "outputs": [
    {
     "name": "stdout",
     "output_type": "stream",
     "text": [
      "[[0.73641427]\n",
      " [1.23203393]\n",
      " [1.578181  ]]\n"
     ]
    }
   ],
   "source": [
    "## How would this model make predictions?\n",
    "\n",
    "# Let's make some new data that have the following values and see how to predict their corresponding 'y' values.\n",
    "\n",
    "# Print out the model's guesses for some values of x\n",
    "new_x_values = [ [-1.23], [0.66], [1.98] ]\n",
    "\n",
    "predictions = model.predict(new_x_values)\n",
    "\n",
    "print(predictions)"
   ]
  },
  {
   "cell_type": "code",
   "execution_count": 105,
   "metadata": {},
   "outputs": [
    {
     "name": "stdout",
     "output_type": "stream",
     "text": [
      "Model prediction for -1.23: [0.73641427]\n",
      "Model prediction for 0.66: [1.23203393]\n",
      "Model prediction for 1.98: [1.578181]\n"
     ]
    }
   ],
   "source": [
    "# Let's print them a little bit nicer\n",
    "for datapoint, prediction in zip(new_x_values, predictions):\n",
    "    print('Model prediction for {}: {}'.format(datapoint[0], prediction))"
   ]
  },
  {
   "cell_type": "markdown",
   "metadata": {},
   "source": [
    "We can also look at them graphically."
   ]
  },
  {
   "cell_type": "code",
   "execution_count": 106,
   "metadata": {},
   "outputs": [],
   "source": [
    "def plot_best_fit_line(model, x, y):\n",
    "    # create the figure\n",
    "    fig = matplotlib.pyplot.figure(1)\n",
    "    fig.suptitle('Data and Best-Fit Line')\n",
    "    matplotlib.pyplot.xlabel('x values')\n",
    "    matplotlib.pyplot.ylabel('y values')\n",
    "\n",
    "    # put the generated dataset points on the graph\n",
    "    matplotlib.pyplot.scatter(x, y)\n",
    "    \n",
    "    # Now we actually want to plot the best-fit line.\n",
    "    # To simulate that, we'll simply generate all the\n",
    "    # inputs on the graph and plot that.\n",
    "    # predict for inputs along the graph to find the best-fit line\n",
    "    X = numpy.linspace(MIN_X, MAX_X) # generates all the possible values of x\n",
    "    Y = model.predict(list(zip(X)))\n",
    "    matplotlib.pyplot.plot(X, Y)"
   ]
  },
  {
   "cell_type": "code",
   "execution_count": 107,
   "metadata": {},
   "outputs": [
    {
     "data": {
      "image/png": "[encoded data removed]",
      "text/plain": [
       "<Figure size 432x288 with 1 Axes>"
      ]
     },
     "metadata": {
      "needs_background": "light"
     },
     "output_type": "display_data"
    }
   ],
   "source": [
    "plot_best_fit_line(model, x, y)"
   ]
  },
  {
   "cell_type": "markdown",
   "metadata": {},
   "source": [
    "# Exercise Option (Standard Difficulty)\n",
    "\n",
    "Answer the following questions about dataset 1:\n",
    "1. What output did you expect to see printed if the linear regression code was working, and why?\n",
    "1. What did you expect to see on the graph if the linear regression code was working, and why?\n",
    "1. Pick some lines of code that you could change to continue testing that the linear regression worked properly. What lines did you choose and how did you change them? How did the output change, and why does that tell you that the code is working correctly?"
   ]
  },
  {
   "cell_type": "code",
   "execution_count": null,
   "metadata": {},
   "outputs": [],
   "source": [
    "# 1. What output did you expect to see printed if the linear regression code was working, and why?\n",
    "I was expecting the slope to be positive (between 0 and 1), and the y intercept to be positive also. \n",
    "\n",
    "# 2. What did you expect to see on the graph if the linear regression code was working, and why?\n",
    "I guess just by looking at the line drawn you can sort of tell if it somewhat models the linear \n",
    "relationship of the data points.\n",
    "\n",
    "# 3. Pick some lines of code that you could change to continue testing that the linear regression worked \n",
    "# properly. What lines did you choose and how did you change them? How did the output change, and why does \n",
    "# that tell you that the code is working correctly?\n",
    "By changing the line data['y'] = data['y'] + noise to data['y'] = -data['y'] + noise,\n",
    "I can test if the slope would change from positive to negative based off of the data, which is a starting point.\n",
    "\n",
    "Additionally, I can change the data to not have noise so that I get an exact linear line of data \n",
    "that I can compare with the linear regression model.\n"
   ]
  },
  {
   "cell_type": "markdown",
   "metadata": {},
   "source": [
    "### Fake Dataset 2\n",
    "\n",
    "Finally, let's look at a dataset has two inputs, like [the tree example in our notes](https://jennselby.github.io/MachineLearningCourseNotes/#linear-regression).\n",
    "\n",
    "**NOTE**: This will make it a littler harder to visualize, particularly because you cannot rotate the graph interactively in the Jupyter notebook. If you are interested in looking more closely at this graph, you can copy the code below (plus the code in the second and third code cells) into a file and run it through Python normally. This will open a graph window that will allow you to drag to rotate the graph."
   ]
  },
  {
   "cell_type": "code",
   "execution_count": 43,
   "metadata": {},
   "outputs": [],
   "source": [
    "# generate some normally distributed noise\n",
    "noise = numpy.random.normal(size=NUM_INPUTS)\n",
    "\n",
    "# randomly pick pairs of numbers for x\n",
    "# the 2 in the size parameter is how we get pairs instead of single numbers\n",
    "x1 = numpy.random.uniform(low=MIN_X, high=MAX_X, size=NUM_INPUTS)\n",
    "x2 = numpy.random.uniform(low=MIN_X, high=MAX_X, size=NUM_INPUTS)\n",
    "\n",
    "y = 0.5 * x1 - 0.2 * x2 - 2 + noise"
   ]
  },
  {
   "cell_type": "code",
   "execution_count": 44,
   "metadata": {},
   "outputs": [],
   "source": [
    "data3 = pd.DataFrame(data=x1, columns = ['x1'])"
   ]
  },
  {
   "cell_type": "code",
   "execution_count": 45,
   "metadata": {},
   "outputs": [],
   "source": [
    "data3['x2'] = x2\n",
    "data3['y'] = y"
   ]
  },
  {
   "cell_type": "code",
   "execution_count": 46,
   "metadata": {},
   "outputs": [
    {
     "data": {
      "text/html": [
       "<div>\n",
       "<style scoped>\n",
       "    .dataframe tbody tr th:only-of-type {\n",
       "        vertical-align: middle;\n",
       "    }\n",
       "\n",
       "    .dataframe tbody tr th {\n",
       "        vertical-align: top;\n",
       "    }\n",
       "\n",
       "    .dataframe thead th {\n",
       "        text-align: right;\n",
       "    }\n",
       "</style>\n",
       "<table border=\"1\" class=\"dataframe\">\n",
       "  <thead>\n",
       "    <tr style=\"text-align: right;\">\n",
       "      <th></th>\n",
       "      <th>x1</th>\n",
       "      <th>x2</th>\n",
       "      <th>y</th>\n",
       "    </tr>\n",
       "  </thead>\n",
       "  <tbody>\n",
       "    <tr>\n",
       "      <th>0</th>\n",
       "      <td>-4.983697</td>\n",
       "      <td>-0.000119</td>\n",
       "      <td>-4.538582</td>\n",
       "    </tr>\n",
       "    <tr>\n",
       "      <th>1</th>\n",
       "      <td>2.304035</td>\n",
       "      <td>3.609946</td>\n",
       "      <td>-2.861939</td>\n",
       "    </tr>\n",
       "    <tr>\n",
       "      <th>2</th>\n",
       "      <td>0.560265</td>\n",
       "      <td>8.623775</td>\n",
       "      <td>-1.911029</td>\n",
       "    </tr>\n",
       "    <tr>\n",
       "      <th>3</th>\n",
       "      <td>8.840804</td>\n",
       "      <td>7.114430</td>\n",
       "      <td>0.442547</td>\n",
       "    </tr>\n",
       "    <tr>\n",
       "      <th>4</th>\n",
       "      <td>-8.227331</td>\n",
       "      <td>-5.497085</td>\n",
       "      <td>-5.579011</td>\n",
       "    </tr>\n",
       "  </tbody>\n",
       "</table>\n",
       "</div>"
      ],
      "text/plain": [
       "         x1        x2         y\n",
       "0 -4.983697 -0.000119 -4.538582\n",
       "1  2.304035  3.609946 -2.861939\n",
       "2  0.560265  8.623775 -1.911029\n",
       "3  8.840804  7.114430  0.442547\n",
       "4 -8.227331 -5.497085 -5.579011"
      ]
     },
     "execution_count": 46,
     "metadata": {},
     "output_type": "execute_result"
    }
   ],
   "source": [
    "data3.head()"
   ]
  },
  {
   "cell_type": "code",
   "execution_count": 47,
   "metadata": {},
   "outputs": [
    {
     "name": "stdout",
     "output_type": "stream",
     "text": [
      "Intercept: -1.968275829285203  Coefficients: [ 0.53423597 -0.20389658]\n"
     ]
    }
   ],
   "source": [
    "# use scikit-learn's linear regression model and fit to our data\n",
    "model3 = linear_model.LinearRegression()\n",
    "model3.fit(data3[['x1', 'x2']], data3['y'])\n",
    "\n",
    "# Print out the parameters for the best fit plane\n",
    "print('Intercept: {0}  Coefficients: {1}'.format(model3.intercept_, model3.coef_))\n"
   ]
  },
  {
   "cell_type": "code",
   "execution_count": 48,
   "metadata": {},
   "outputs": [],
   "source": [
    "## Now create a function that can plot in 3D\n",
    "\n",
    "def plot_3d(model, x1, x2, y):\n",
    "    # 3D Plot\n",
    "    # create the figure\n",
    "    fig = matplotlib.pyplot.figure(1)\n",
    "    fig.suptitle('3D Data and Best-Fit Plane')\n",
    "    \n",
    "    # get the current axes, and tell them to do a 3D projection\n",
    "    axes = fig.gca(projection='3d')\n",
    "    axes.set_xlabel('x1')\n",
    "    axes.set_ylabel('x2')\n",
    "    axes.set_zlabel('y')\n",
    "    \n",
    "    \n",
    "    # put the generated points on the graph\n",
    "    axes.scatter(x1, x2, y)\n",
    "\n",
    "    # predict for input points across the graph to find the best-fit plane\n",
    "    # and arrange them into a grid for matplotlib\n",
    "    X1 = X2 = numpy.arange(MIN_X, MAX_X, 0.05)\n",
    "    X1, X2 = numpy.meshgrid(X1, X2)\n",
    "    Y = numpy.array(model3.predict(list(zip(X1.flatten(), X2.flatten())))).reshape(X1.shape)\n",
    "\n",
    "    # put the predicted plane on the graph\n",
    "    axes.plot_surface(X1, X2, Y, alpha=0.1)\n",
    "\n",
    "    # show the plots\n",
    "    matplotlib.pyplot.show()"
   ]
  },
  {
   "cell_type": "code",
   "execution_count": 49,
   "metadata": {},
   "outputs": [
    {
     "data": {
      "image/png": "[encoded data removed]",
      "text/plain": [
       "<Figure size 432x288 with 1 Axes>"
      ]
     },
     "metadata": {
      "needs_background": "light"
     },
     "output_type": "display_data"
    }
   ],
   "source": [
    "# Now let's use the function\n",
    "plot_3d(model3, x1, x2, y)"
   ]
  },
  {
   "cell_type": "markdown",
   "metadata": {},
   "source": [
    "# Exercise Option (Standard Difficulty)\n",
    "\n",
    "Now, answer the following questions about `Fake Dataset 2`:\n",
    "1. What output did you expect to see printed if the linear regression code was working, and why?\n",
    "1. What did you expect to see on the graph if the linear regression code was working, and why?\n",
    "1. Pick some lines of code that you could change to continue testing that the linear regression worked properly. What lines did you choose and how did you change them? How did the output change, and why does that tell you that the code is working correctly?\n",
    "1. Explain any differences you noticed between working with dataset 1 and dataset 2."
   ]
  },
  {
   "cell_type": "code",
   "execution_count": null,
   "metadata": {},
   "outputs": [],
   "source": [
    "# 1. What output did you expect to see printed if the linear regression code was working, and why?\n",
    "\n",
    "# 2. What did you expect to see on the graph if the linear regression code was working, and why?\n",
    "\n",
    "# 3. Pick some lines of code that you could change to continue testing that the linear regression \n",
    "# worked properly. What lines did you choose and how did you change them? How did the output change,\n",
    "# and why does that tell you that the code is working correctly?\n",
    "\n",
    "# 4. Explain any differences you noticed between working with dataset 1 and dataset 2.\n",
    "\n",
    "\n"
   ]
  },
  {
   "cell_type": "markdown",
   "metadata": {},
   "source": [
    "# Exercise Option (Advanced)\n",
    "\n",
    "First, look over and understand the data for `Fake Dataset 3`.\n",
    "\n",
    "Then get the linear regression to work better for `Fake Dataset 3`. \n",
    "\n",
    "There are a couple different ways to do this, but all of them will involve some new code. If you have ideas but just aren't sure how to translate them into code, please ask for help!"
   ]
  },
  {
   "cell_type": "markdown",
   "metadata": {},
   "source": [
    "### Fake Dataset 3\n",
    "\n",
    "The new equation we'll try to model is $y = 0.7x^2 - 0.4x + 1.5$.\n",
    "\n",
    "\n",
    "This dataset still just has one input, so the code is very similar to our first one. However, now the generating function is quadratic, so this one will be trickier to deal with.\n",
    "\n",
    "Again, we'll go through dataset generation, training, and visualization."
   ]
  },
  {
   "cell_type": "code",
   "execution_count": 108,
   "metadata": {},
   "outputs": [],
   "source": [
    "# Generate some normally distributed noise\n",
    "noise = numpy.random.normal(size=NUM_INPUTS)\n",
    "\n",
    "# randomly pick numbers for x\n",
    "x = numpy.random.uniform(low=MIN_X, high=MAX_X, size=(NUM_INPUTS, 1))\n",
    "\n",
    "data2 = pd.DataFrame(data=x, columns=['x'])"
   ]
  },
  {
   "cell_type": "code",
   "execution_count": 109,
   "metadata": {},
   "outputs": [],
   "source": [
    "# First, let's create some noise to make our data a little bit more spread out.\n",
    "\n",
    "# generate some normally distributed noise\n",
    "noise = numpy.random.normal(size=NUM_INPUTS)"
   ]
  },
  {
   "cell_type": "code",
   "execution_count": 110,
   "metadata": {},
   "outputs": [],
   "source": [
    "# Let's generate the y values\n",
    "# Our equation:\n",
    "# y = 0.7x^2 - 0.4x + 1.5\n",
    "data2['y'] = 0.7 * data2['x'] * data2['x'] - 0.4 * data2['x'] + 1.5 + noise\n"
   ]
  },
  {
   "cell_type": "code",
   "execution_count": 119,
   "metadata": {},
   "outputs": [
    {
     "name": "stdout",
     "output_type": "stream",
     "text": [
      "Intercept: [23.17998004]  Coefficients: [[-0.98612491]]\n"
     ]
    },
    {
     "data": {
      "image/png": "[encoded data removed]",
      "text/plain": [
       "<Figure size 432x288 with 1 Axes>"
      ]
     },
     "metadata": {
      "needs_background": "light"
     },
     "output_type": "display_data"
    }
   ],
   "source": [
    "# get a 1D array of the input data\n",
    "x = data2['x'].values.reshape(-1, 1)\n",
    "y = data2['y'].values.reshape(-1, 1)\n",
    "\n",
    "# Let's try use scikit-learn's linear regression model and fit to our data\n",
    "model2 = linear_model.LinearRegression()\n",
    "model2.fit(x, y)\n",
    "\n",
    "# show results\n",
    "print_model_fit(model2)\n",
    "plot_best_fit_line(model2, x, y)"
   ]
  },
  {
   "cell_type": "markdown",
   "metadata": {},
   "source": [
    "Hmmm. There's some issues here. Clearly the linear model that we have won't work great.\n",
    "\n",
    "Your challenge is to write some new code that will figure out a way to nevertheless still fit a linear model to this data. There are a couple different ways to do this, but all of them will involve some new code. If you have ideas but just aren't sure how to translate them into code, please ask for help!"
   ]
  },
  {
   "cell_type": "code",
   "execution_count": 140,
   "metadata": {},
   "outputs": [
    {
     "name": "stdout",
     "output_type": "stream",
     "text": [
      "Intercept: [-8.00497997]  Coefficients: [[6.52520888]]\n",
      "Intercept: [-11.96977717]  Coefficients: [[-7.70527742]]\n"
     ]
    },
    {
     "data": {
      "image/png": "[encoded data removed]",
      "text/plain": [
       "<Figure size 432x288 with 1 Axes>"
      ]
     },
     "metadata": {
      "needs_background": "light"
     },
     "output_type": "display_data"
    }
   ],
   "source": [
    "greater = data2[(data2['x'] > 0)]\n",
    "less = data2[(data2['x'] < 0)]\n",
    "\n",
    "xg = greater['x'].values.reshape(-1, 1)\n",
    "yg = greater['y'].values.reshape(-1, 1)\n",
    "\n",
    "xl = less['x'].values.reshape(-1, 1)\n",
    "yl = less['y'].values.reshape(-1, 1)\n",
    "\n",
    "model3 = linear_model.LinearRegression()\n",
    "model3.fit(xg, yg)\n",
    "\n",
    "model4 = linear_model.LinearRegression()\n",
    "model4.fit(xl, yl)\n",
    "\n",
    "print_model_fit(model3)\n",
    "plot_best_fit_line(model3, xg, yg)\n",
    "\n",
    "print_model_fit(model4)\n",
    "plot_best_fit_line(model4, xl, yl)\n"
   ]
  },
  {
   "cell_type": "markdown",
   "metadata": {},
   "source": [
    "# Exercise Option (Advanced)\n",
    "\n",
    "Imagine you couldn't use the `sklearn` `.fit()` function to magically find the best parameters that minimized the sum of squared errors.\n",
    "\n",
    "Imagine what life would be like if you had to write the code that found the best parameters to minimize \"sum of squared errors\" yourself! \n",
    "\n",
    "Geez. That would be hard ... or would it? \n",
    "\n",
    "Maybe a challenge worth persuing!\n",
    "\n",
    "Your challenge: try to write some code that minimizes the sum of squared errors to find the parameters of a best fit linear regression line.\n"
   ]
  },
  {
   "cell_type": "code",
   "execution_count": 151,
   "metadata": {},
   "outputs": [],
   "source": [
    "## making data ###\n",
    "\n",
    "x1 = numpy.random.uniform(low=MIN_X, high=MAX_X, size=(NUM_INPUTS, 1))\n",
    "new_data = pd.DataFrame(data=x1, columns=['x'])\n",
    "new_data['y'] = 0.3 * new_data['x'] + 1\n"
   ]
  },
  {
   "cell_type": "code",
   "execution_count": 159,
   "metadata": {},
   "outputs": [
    {
     "data": {
      "text/plain": [
       "(0.29999999999999966, 1.0000000000000002)"
      ]
     },
     "execution_count": 159,
     "metadata": {},
     "output_type": "execute_result"
    }
   ],
   "source": [
    "def sqr_error(data, m, b):\n",
    "    error = sum((m*data['x']+b - data['y'])**2)/data.size\n",
    "    return error\n",
    "\n",
    "def fit_line(data):\n",
    "    m = 1\n",
    "    b = 0\n",
    "    iterate = 500\n",
    "    step = 0.05\n",
    "    for i in range(0, iterate-1):\n",
    "        min_sqr_error = 10000\n",
    "        min_m = 10000\n",
    "        min_b = 0\n",
    "        for j in range(0,8):\n",
    "            if j == 0:\n",
    "                m1 = m+step\n",
    "                b1 = b+step\n",
    "            if j == 1:\n",
    "                m1 = m+step\n",
    "                b1 = b\n",
    "            if j == 2:\n",
    "                m1 = m+step\n",
    "                b1 = b-step\n",
    "            if j == 3:\n",
    "                m1 = m\n",
    "                b1 = b+step\n",
    "            if j == 4:\n",
    "                m1 = m\n",
    "                b1 = b\n",
    "            if j == 5:\n",
    "                m1 = m\n",
    "                b1 = b-step\n",
    "            if j == 6:\n",
    "                m1 = m-step\n",
    "                b1 = b+step\n",
    "            if j == 7:\n",
    "                m1 = m-step\n",
    "                b1 = b\n",
    "            if j == 8:\n",
    "                m1 = m-step\n",
    "                b1 = b-step\n",
    "            test_error = sqr_error(data, m1, b1)\n",
    "            if test_error < min_sqr_error:\n",
    "                min_sqr_error = test_error\n",
    "                min_m = m1\n",
    "                min_b = b1\n",
    "        m = min_m\n",
    "        b = min_b\n",
    "    return m, b\n",
    "fit_line(new_data)"
   ]
  },
  {
   "cell_type": "code",
   "execution_count": null,
   "metadata": {},
   "outputs": [],
   "source": []
  }
 ],
 "metadata": {
  "kernelspec": {
   "display_name": "Python 3",
   "language": "python",
   "name": "python3"
  },
  "language_info": {
   "codemirror_mode": {
    "name": "ipython",
    "version": 3
   },
   "file_extension": ".py",
   "mimetype": "text/x-python",
   "name": "python",
   "nbconvert_exporter": "python",
   "pygments_lexer": "ipython3",
   "version": "3.7.0"
  }
 },
 "nbformat": 4,
 "nbformat_minor": 2
}
