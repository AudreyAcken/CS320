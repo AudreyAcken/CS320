{
 "cells": [
  {
   "cell_type": "markdown",
   "metadata": {},
   "source": [
    "## Logistic Regression\n",
    "by Carl Shan and Jen Selby at The Nueva School\n",
    "\n",
    "This notebook will demonstrate some code that uses sklearn's Logistic Regression model to classify some data."
   ]
  },
  {
   "cell_type": "markdown",
   "metadata": {},
   "source": [
    "# Learning about Logistic Regression"
   ]
  },
  {
   "cell_type": "markdown",
   "metadata": {},
   "source": [
    "Logistic Regression is a common classification technique.\n",
    "\n",
    "Unlike linear regression, which predicts numerical outcomes, logistic regression outputs a number that is meant to represent the probability of a certain classification.\n",
    "\n",
    "Steps to learn about logistic regression:\n",
    "\n",
    "1. First, [watch this 15-minute video](https://www.youtube.com/embed/-Z2a_mzl9LM?feature=oembed&rel=0). It does a great job of breaking down in simple terms the intuition and math behind logistic regression.\n",
    "\n",
    "2. Then to read more about the model, check out [the content on the course notes](https://jennselby.github.io/MachineLearningCourseNotes/)\n",
    "\n",
    "3. Finally you can read more about Logisitic Regression in Python by following [this online guide.](https://www.linkedin.com/pulse/logistics-regression-using-ipython-jeffrey-strickland-ph-d-cmsp)"
   ]
  },
  {
   "cell_type": "markdown",
   "metadata": {},
   "source": [
    "## Instructions\n",
    "\n",
    "1. Read through the code below to make sure you understand it.\n",
    "2. Then, go to Canvas and pick a set of exercises (Standard or Advanced) to complete and submit.\n",
    "\n",
    "The rest of this notebook walks you through an example of using the logistic regression model.\n",
    "\n",
    "In this Jupyter Notebook, you will see the code behind how to build a logistic model to predict whether a plant is of Class A (tall and thin) or Class B (short and wide)."
   ]
  },
  {
   "cell_type": "markdown",
   "metadata": {},
   "source": [
    "### Step 1: Importing the libraries we need"
   ]
  },
  {
   "cell_type": "code",
   "execution_count": 2,
   "metadata": {},
   "outputs": [
    {
     "name": "stdout",
     "output_type": "stream",
     "text": [
      "Populating the interactive namespace from numpy and matplotlib\n"
     ]
    }
   ],
   "source": [
    "# Remember that you can run this cell with SHIFT+ENTER\n",
    "import numpy.random\n",
    "from sklearn import linear_model\n",
    "import matplotlib.pyplot\n",
    "%pylab inline"
   ]
  },
  {
   "cell_type": "markdown",
   "metadata": {},
   "source": [
    "### Step 2: Generating some fake data about plants we're going to use to classify"
   ]
  },
  {
   "cell_type": "code",
   "execution_count": 13,
   "metadata": {},
   "outputs": [],
   "source": [
    "################################################################################\n",
    "#  GENERATED DATA\n",
    "################################################################################\n",
    "\n",
    "# We have two types of plants\n",
    "# Plant A tends to be taller (avg 60cm) and thinner (avg 8cm)\n",
    "# Plant B tends to be shorter (avg 58cm) and wider (avg 10cm)\n",
    "# We'll use 0 for Plant A and 1 for Plant B\n",
    "\n",
    "NUM_INPUTS = 50\n",
    "PLANT_A_AVG_HEIGHT = 60.0\n",
    "PLANT_A_AVG_WIDTH = 8.0\n",
    "PLANT_B_AVG_HEIGHT = 58.0\n",
    "PLANT_B_AVG_WIDTH = 10.0\n",
    "PLANT_C_AVG_HEIGHT = 63.0\n",
    "PLANT_C_AVG_WIDTH = 6.0\n",
    "\n",
    "plantA_heights = numpy.random.normal(loc=PLANT_A_AVG_HEIGHT, size=NUM_INPUTS)\n",
    "plantA_widths = numpy.random.normal(loc=PLANT_A_AVG_WIDTH, size=NUM_INPUTS)\n",
    "\n",
    "plantB_heights = numpy.random.normal(loc=PLANT_B_AVG_HEIGHT, size=NUM_INPUTS)\n",
    "plantB_widths = numpy.random.normal(loc=PLANT_B_AVG_WIDTH, size=NUM_INPUTS)\n",
    "\n",
    "plantC_heights = numpy.random.normal(loc=PLANT_C_AVG_HEIGHT, size=NUM_INPUTS)\n",
    "plantC_widths = numpy.random.normal(loc=PLANT_C_AVG_WIDTH, size=NUM_INPUTS)\n",
    "\n",
    "plant_inputs = list(zip(numpy.append(plantA_heights, plantB_heights), numpy.append(plantA_widths, plantB_widths)))\n",
    "\n",
    "plant_inputs2 = list(zip(numpy.append(numpy.append(plantA_heights, plantB_heights), plantC_heights), numpy.append(numpy.append(plantA_widths, plantB_widths), plantC_widths)))\n",
    "        \n",
    "types = [0]*NUM_INPUTS + [1]*NUM_INPUTS\n",
    "\n",
    "typesA = [0]*NUM_INPUTS + [1]*NUM_INPUTS*2\n",
    "\n",
    "typesB = [1]*NUM_INPUTS + [0]*NUM_INPUTS + [1]*NUM_INPUTS\n",
    "\n",
    "typesC = [1]*NUM_INPUTS*2 + [0]*NUM_INPUTS"
   ]
  },
  {
   "cell_type": "markdown",
   "metadata": {},
   "source": [
    "### Step 3: Plotting the data"
   ]
  },
  {
   "cell_type": "code",
   "execution_count": 14,
   "metadata": {},
   "outputs": [
    {
     "data": {
      "image/png": "[encoded data removed]",
      "text/plain": [
       "<Figure size 432x288 with 1 Axes>"
      ]
     },
     "metadata": {
      "needs_background": "light"
     },
     "output_type": "display_data"
    }
   ],
   "source": [
    "################################################################################\n",
    "# PLOT\n",
    "################################################################################\n",
    "\n",
    "# put the generated points on the graph\n",
    "matplotlib.pyplot.scatter(plantA_heights, plantA_widths, c=\"red\", marker=\"o\")\n",
    "matplotlib.pyplot.scatter(plantB_heights, plantB_widths, c=\"blue\", marker=\"^\")\n",
    "\n",
    "matplotlib.pyplot.show()\n"
   ]
  },
  {
   "cell_type": "markdown",
   "metadata": {},
   "source": [
    "The red dots are Class A, and the blue dots are Class B.\n",
    "\n",
    "There is a pretty obvious split between the two. So can we build a model that can accurately distinguish a new plant, given that we know its height and width, whether it's of Class A or Class B?"
   ]
  },
  {
   "cell_type": "markdown",
   "metadata": {},
   "source": [
    "**Note**: Before going onto the next step, I highly encourage you to run the above cell (SHIFT+ENTER) and then make a few cells below to inspect what each of the variables (e.g., `plantA_heights`, `plant_inputs`) look like.\n",
    "\n",
    "The reason is that you generally want to know what your data looks like before you start modeling.\n",
    "\n",
    "For example, do you know how many rows of data there are? Are the data of type `int` or `float`? Are they in a single `list` or `lists` within a `list`? All of these can make a difference as you go on to build a logistic model."
   ]
  },
  {
   "cell_type": "markdown",
   "metadata": {},
   "source": [
    "### Step 4: Fitting a model to our data\n",
    "\n",
    "Again, notice that by using the `sklearn` library, it takes very few lines of code to fit the model to the data."
   ]
  },
  {
   "cell_type": "code",
   "execution_count": 15,
   "metadata": {},
   "outputs": [
    {
     "name": "stdout",
     "output_type": "stream",
     "text": [
      "Intercept: [0.25931974]  Coefficients: [[-0.28237171  1.81686155]]\n"
     ]
    },
    {
     "data": {
      "image/png": "[encoded data removed]",
      "text/plain": [
       "<Figure size 432x288 with 1 Axes>"
      ]
     },
     "metadata": {
      "needs_background": "light"
     },
     "output_type": "display_data"
    }
   ],
   "source": [
    "################################################################################\n",
    "# MODEL TRAINING\n",
    "################################################################################\n",
    "\n",
    "model = linear_model.LogisticRegression()\n",
    "model.fit(plant_inputs, types)\n",
    "\n",
    "print('Intercept: {0}  Coefficients: {1}'.format(model.intercept_, model.coef_))\n",
    "\n",
    "matplotlib.pyplot.scatter(plantA_heights, plantA_widths, c=\"red\", marker=\"o\")\n",
    "matplotlib.pyplot.scatter(plantB_heights, plantB_widths, c=\"blue\", marker=\"^\")\n",
    "\n",
    "matplotlib.pyplot.show()"
   ]
  },
  {
   "cell_type": "markdown",
   "metadata": {},
   "source": [
    "### Step 5: Using our fitted model to make predictions on new data "
   ]
  },
  {
   "cell_type": "code",
   "execution_count": 2,
   "metadata": {},
   "outputs": [
    {
     "ename": "SyntaxError",
     "evalue": "invalid syntax (<ipython-input-2-f2f202641f49>, line 13)",
     "output_type": "error",
     "traceback": [
      "\u001b[0;36m  File \u001b[0;32m\"<ipython-input-2-f2f202641f49>\"\u001b[0;36m, line \u001b[0;32m13\u001b[0m\n\u001b[0;31m    print('Probabilities: {0}'.format(model.))\u001b[0m\n\u001b[0m                                            ^\u001b[0m\n\u001b[0;31mSyntaxError\u001b[0m\u001b[0;31m:\u001b[0m invalid syntax\n"
     ]
    }
   ],
   "source": [
    "################################################################################\n",
    "# PREDICTION\n",
    "################################################################################\n",
    "\n",
    "newA_height = numpy.random.normal(loc=PLANT_A_AVG_HEIGHT)\n",
    "newA_width = numpy.random.normal(loc=PLANT_A_AVG_WIDTH)\n",
    "newB_height = numpy.random.normal(loc=PLANT_B_AVG_HEIGHT)\n",
    "newB_width = numpy.random.normal(loc=PLANT_B_AVG_WIDTH)\n",
    "\n",
    "inputs = [[newA_height, newA_width], [newB_height, newB_width]]\n",
    "\n",
    "print('Type predictions: {0}'.format(model.predict(inputs)))\n",
    "print('Probabilities: {0}'.format(model.)))"
   ]
  },
  {
   "cell_type": "markdown",
   "metadata": {},
   "source": [
    "# Advanced Option 1"
   ]
  },
  {
   "cell_type": "code",
   "execution_count": 18,
   "metadata": {
    "scrolled": true
   },
   "outputs": [
    {
     "data": {
      "image/png": "[encoded data removed]",
      "text/plain": [
       "<Figure size 432x288 with 1 Axes>"
      ]
     },
     "metadata": {
      "needs_background": "light"
     },
     "output_type": "display_data"
    }
   ],
   "source": [
    "# Right now, the graph shows the generated data but nothing about the model fit. How might you try to assess\n",
    "# model fit graphically? E.g., how could you visually figure out if the predictions you're generating are\n",
    "# actually \"accurate\" or \"right\"? \n",
    "\n",
    "matplotlib.pyplot.scatter(plantA_heights, plantA_widths, c=\"red\", marker=\"o\")\n",
    "matplotlib.pyplot.scatter(plantB_heights, plantB_widths, c=\"blue\", marker=\"^\")\n",
    "\n",
    "xVals = []\n",
    "yVals = []\n",
    "for i in range (55, 65):\n",
    "    xVals.append(i)\n",
    "    y = -(i*model.coef_[0][0]+model.intercept_)/model.coef_[0][1]\n",
    "    yVals.append(y)\n",
    "\n",
    "matplotlib.pyplot.plot(xVals, yVals)\n",
    "matplotlib.pyplot.show()"
   ]
  },
  {
   "cell_type": "markdown",
   "metadata": {},
   "source": [
    "# Advanced Option 2"
   ]
  },
  {
   "cell_type": "code",
   "execution_count": 19,
   "metadata": {},
   "outputs": [
    {
     "name": "stdout",
     "output_type": "stream",
     "text": [
      "[array([[0.32474838, 0.67525162],\n",
      "       [0.35216508, 0.64783492],\n",
      "       [0.31299098, 0.68700902]]), array([[1.67317971e-02, 9.83268203e-01],\n",
      "       [9.60331441e-01, 3.96685589e-02],\n",
      "       [3.33147396e-04, 9.99666853e-01]]), array([[4.39595289e-01, 5.60404711e-01],\n",
      "       [5.45043883e-04, 9.99454956e-01],\n",
      "       [9.77111622e-01, 2.28883776e-02]])]\n"
     ]
    },
    {
     "data": {
      "image/png": "[encoded data removed]",
      "text/plain": [
       "<Figure size 432x288 with 1 Axes>"
      ]
     },
     "metadata": {
      "needs_background": "light"
     },
     "output_type": "display_data"
    }
   ],
   "source": [
    "# If you have more than two classes (e.g., what if there was a third plant type? or a fourth?), you can\n",
    "# use Multinomial Logistic Regression (in fact, this is built into scikit-learn's logistic regression function).\n",
    "# One way to implement this is to use one vs. rest, that is to use a binomial logistic regression for each class\n",
    "# that you have, to decide if it is or is not in that class. Try expanding the program in this way, with a third\n",
    "# type. Submit your Jupyter Notebook or .py file.\n",
    "\n",
    "modelA = linear_model.LogisticRegression()\n",
    "modelA.fit(plant_inputs2, typesA)\n",
    "\n",
    "modelB = linear_model.LogisticRegression()\n",
    "modelB.fit(plant_inputs2, typesB)\n",
    "\n",
    "modelC = linear_model.LogisticRegression()\n",
    "modelC.fit(plant_inputs2, typesC)\n",
    "\n",
    "newA_height = numpy.random.normal(loc=PLANT_A_AVG_HEIGHT)\n",
    "newA_width = numpy.random.normal(loc=PLANT_A_AVG_WIDTH)\n",
    "newB_height = numpy.random.normal(loc=PLANT_B_AVG_HEIGHT)\n",
    "newB_width = numpy.random.normal(loc=PLANT_B_AVG_WIDTH)\n",
    "newC_height = numpy.random.normal(loc=PLANT_C_AVG_HEIGHT)\n",
    "newC_width = numpy.random.normal(loc=PLANT_C_AVG_WIDTH)\n",
    "\n",
    "inputs = [[newA_height, newA_width], [newB_height, newB_width], [newC_height, newC_width]]\n",
    "\n",
    "a = [modelA.predict_proba(inputs), modelB.predict_proba(inputs), modelC.predict_proba(inputs)]\n",
    "print(a)\n",
    "matplotlib.pyplot.scatter(plantA_heights, plantA_widths, c=\"red\", marker=\"o\")\n",
    "matplotlib.pyplot.scatter(plantB_heights, plantB_widths, c=\"blue\", marker=\"o\")\n",
    "matplotlib.pyplot.scatter(plantC_heights, plantC_widths, c=\"green\", marker=\"o\")\n",
    "\n",
    "matplotlib.pyplot.show()"
   ]
  }
 ],
 "metadata": {
  "kernelspec": {
   "display_name": "Python 3",
   "language": "python",
   "name": "python3"
  },
  "language_info": {
   "codemirror_mode": {
    "name": "ipython",
    "version": 3
   },
   "file_extension": ".py",
   "mimetype": "text/x-python",
   "name": "python",
   "nbconvert_exporter": "python",
   "pygments_lexer": "ipython3",
   "version": "3.7.0"
  }
 },
 "nbformat": 4,
 "nbformat_minor": 2
}
